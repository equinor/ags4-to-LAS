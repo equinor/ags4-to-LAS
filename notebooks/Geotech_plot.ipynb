{
 "cells": [
  {
   "cell_type": "code",
   "execution_count": null,
   "id": "643de7c0",
   "metadata": {},
   "outputs": [],
   "source": [
    "import lasio\n",
    "import matplotlib.pyplot as plt\n",
    "import os"
   ]
  },
  {
   "cell_type": "code",
   "execution_count": null,
   "id": "cf165d8f",
   "metadata": {},
   "outputs": [],
   "source": [
    "las_folder = file = r'..\\..\\..\\petrophysical mindboggles\\AGS_files\\output'"
   ]
  },
  {
   "cell_type": "code",
   "execution_count": null,
   "id": "a270c10a",
   "metadata": {},
   "outputs": [],
   "source": [
    "def find_files(path, recursive=False, extension='', case_sensitive=False):\n",
    "    '''Function to scan a path (optional recursive) to find all files with a specific\n",
    "    extension.\n",
    "    Mandatory argument:\n",
    "    :path: path/directory to look in for files \n",
    "    Optional arguments:\n",
    "    :recursive: decends into directories. Default = False\n",
    "    :extension: file extension. Default = ''\n",
    "    :case_sensitive. Treats extention as case sensitive. Default = False\n",
    "    Returns a list with all files matching the extension. Files/elements contain the full path.'''\n",
    "    file_list = list()\n",
    "    \n",
    "    for f in os.listdir(path):\n",
    "        fpath = os.path.join(path,f)\n",
    "        if os.path.isdir(fpath):\n",
    "            if recursive == True:\n",
    "                file_list.extend(find_files(fpath, recursive=recursive, extension=extension, case_sensitive=case_sensitive))\n",
    "        else:\n",
    "            if case_sensitive == True:\n",
    "                if fpath.endswith(extension):\n",
    "                    file_list.append(fpath)\n",
    "            else:\n",
    "                if fpath.lower().endswith(extension.lower()):\n",
    "                    file_list.append(fpath)\n",
    "    return(file_list)"
   ]
  },
  {
   "cell_type": "code",
   "execution_count": null,
   "id": "b1c53d2e",
   "metadata": {},
   "outputs": [],
   "source": [
    "las_files = find_files(las_folder, recursive=False, extension='.las', case_sensitive=False)\n",
    "las_files"
   ]
  },
  {
   "cell_type": "code",
   "execution_count": null,
   "id": "fe75313e",
   "metadata": {},
   "outputs": [],
   "source": [
    "def create_geotech_plot(file, codes, save=False, log_range_dict=None):\n",
    "    '''Creates a standard geotech plot\n",
    "    Mandatory inputs:\n",
    "    :file: path to LAS file\n",
    "    :codes: dictionary with codes\n",
    "    Optional argument:\n",
    "    :save: False (default) returns plot to the screen. True will save in same location as LAS file\n",
    "    :log_range_dict: dictionary contain ranges for each curve key = code, value=(min, max, linear/log scale),\n",
    "         for example: SCPT_RES: (0, 80, 'lin')'''\n",
    "    \n",
    "    try:\n",
    "        las = lasio.read(file)\n",
    "        df = las.df()\n",
    "        fig, ax = plt.subplots(nrows=1, ncols=len(df.columns), figsize=(3*len(df.columns),10), sharey=True)\n",
    "        for i, c in enumerate(df.columns):\n",
    "            try:\n",
    "                unit = ''\n",
    "                for cr in las.curves:\n",
    "                    if cr.mnemonic == c:\n",
    "                        unit = cr.unit\n",
    "                ax[i].plot(df[c], df.index, 'k-')\n",
    "                if i == 0:\n",
    "                    ax[i].set_ylabel('DEPTH ('+ [m.unit for m in las.well if m.mnemonic=='STRT'][0] +')', fontweight='bold')\n",
    "                ax[i].set_xlabel(c + ' (' + [m.unit for m in las.curves if m.mnemonic==c][0] + ')', fontweight='bold')\n",
    "                if log_range_dict != None:\n",
    "                    try:\n",
    "                        xlim = [log_range_dict[c][0], log_range_dict[c][1]]\n",
    "                        xscale = log_range_dict[c][2]\n",
    "                        ax[i].set_xlim(xlim)\n",
    "                        ax[i].set_xscale(xscale)\n",
    "                    except:\n",
    "                        pass\n",
    "            except:\n",
    "                pass\n",
    "        ax[0].invert_yaxis()\n",
    "        plt.suptitle(file+'\\n(location: ' + las.well['WELL'].value + ')', fontweight='bold', y=0.95)\n",
    "        if save == True:\n",
    "            plt.savefig(file[:-4]+'.png')\n",
    "        else:\n",
    "            plt.show()\n",
    "        plt.close(fig)\n",
    "    except:\n",
    "        pass\n",
    "    "
   ]
  },
  {
   "cell_type": "code",
   "execution_count": null,
   "id": "a0b4cb9b",
   "metadata": {},
   "outputs": [],
   "source": [
    "log_range_dict = {'SCPT_RES': ( 0,    80,  'lin'),\n",
    "                  'SCPT_FRES':( 0,     1,  'lin'),\n",
    "                  'SCPT_QT':  (-2,    80,  'lin'),\n",
    "                  'SCPT_NQT': ( 0,   100,  'lin'),\n",
    "                  'SCPT_BQ':  (-0.5,   0.5,'lin'),\n",
    "                  'SCPT_NFR': ( 0,   100,  'lin'),\n",
    "                  'SCPT_PWP2':(-0.5,   2,  'lin'),\n",
    "                  'SCDT_PWP2':(-0.5,   2,  'lin'),\n",
    "                  'SCPP_CIC': ( 0,     5,  'lin')}"
   ]
  },
  {
   "cell_type": "code",
   "execution_count": null,
   "id": "9edc7d3c",
   "metadata": {},
   "outputs": [],
   "source": [
    "for file in las_files:\n",
    "    create_geotech_plot(file, list(log_range_dict.keys()), log_range_dict=log_range_dict, save=True)"
   ]
  }
 ],
 "metadata": {
  "kernelspec": {
   "display_name": "Python 3 (ipykernel)",
   "language": "python",
   "name": "python3"
  },
  "language_info": {
   "codemirror_mode": {
    "name": "ipython",
    "version": 3
   },
   "file_extension": ".py",
   "mimetype": "text/x-python",
   "name": "python",
   "nbconvert_exporter": "python",
   "pygments_lexer": "ipython3",
   "version": "3.9.7"
  }
 },
 "nbformat": 4,
 "nbformat_minor": 5
}
